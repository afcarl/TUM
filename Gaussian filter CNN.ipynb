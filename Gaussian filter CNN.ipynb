{
 "cells": [
  {
   "cell_type": "code",
   "execution_count": 1,
   "metadata": {
    "collapsed": true
   },
   "outputs": [],
   "source": [
    "import numpy as np\n",
    "import cv2\n",
    "import pandas as pd\n",
    "import matplotlib.pyplot as plt\n",
    "%matplotlib inline\n",
    "import os\n",
    "from skimage import io, transform\n",
    "import scipy.misc as m\n",
    "from tqdm import tqdm\n",
    "import shutil\n",
    "import tensorflow as tf\n",
    "from tensorflow.contrib.data import Dataset, Iterator"
   ]
  },
  {
   "cell_type": "code",
   "execution_count": null,
   "metadata": {
    "collapsed": false
   },
   "outputs": [],
   "source": [
    "# Preparing the dataset\n",
    "data_dir = '/Users/navneetmkumar/Desktop/TUM/lfw'\n",
    "users = os.listdir(data_dir)\n",
    "print(len(users))\n",
    "users = sorted(users[1:])"
   ]
  },
  {
   "cell_type": "code",
   "execution_count": 2,
   "metadata": {
    "collapsed": false
   },
   "outputs": [],
   "source": [
    "root_dir = '/Users/navneetmkumar/Desktop/TUM/'\n",
    "image_dir = root_dir+ 'lfw/'\n",
    "\n",
    "if not os.path.exists(root_dir+'train-inputs'):\n",
    "    os.makedirs(root_dir+'train-inputs')\n",
    "\n",
    "if not os.path.exists(root_dir+'train-targets'):\n",
    "    os.makedirs(root_dir+'train-targets')\n",
    "    \n",
    "if not os.path.exists(root_dir+'train-inputs-small'):\n",
    "    os.makedirs(root_dir+'train-inputs-small')\n",
    "\n",
    "if not os.path.exists(root_dir+'train-targets-small'):\n",
    "    os.makedirs(root_dir+'train-targets-small')\n",
    "\n",
    "# Getting the data into a single training folder\n",
    "def create_training_set(users, root_dir, image_dir):\n",
    "    for user in users[1:]:\n",
    "        path = os.path.join(image_dir, user)\n",
    "        for f in os.listdir(path):\n",
    "            f_name = os.path.basename(f)\n",
    "            f_name = f_name.split(\".\")[0]\n",
    "            f = os.path.join(path, f)\n",
    "            img = cv2.imread(f)\n",
    "            resized_image=cv2.resize(img,(50,50)) \n",
    "            cv2.imwrite(root_dir+'train-inputs-small/'+f_name+\".jpg\",resized_image)"
   ]
  },
  {
   "cell_type": "code",
   "execution_count": null,
   "metadata": {
    "collapsed": false
   },
   "outputs": [],
   "source": [
    "create_training_set(users, root_dir, image_dir)"
   ]
  },
  {
   "cell_type": "code",
   "execution_count": 3,
   "metadata": {
    "collapsed": false
   },
   "outputs": [],
   "source": [
    "train_dir = root_dir+'train-inputs-small/'\n",
    "# Creating the targets dataset\n",
    "def create_targets_set(train_dir):\n",
    "    for f in sorted(os.listdir(train_dir)):\n",
    "        f_name = os.path.join(train_dir+f)\n",
    "        img = io.imread(f_name)\n",
    "        # Make the transformation (Gaussian Blur)\n",
    "        blur = cv2.GaussianBlur(img, (7,7), 0)\n",
    "        io.imsave(root_dir+'train-targets-small/'+f,blur)"
   ]
  },
  {
   "cell_type": "code",
   "execution_count": null,
   "metadata": {
    "collapsed": false
   },
   "outputs": [],
   "source": [
    "create_targets_set(train_dir)"
   ]
  },
  {
   "cell_type": "code",
   "execution_count": 4,
   "metadata": {
    "collapsed": false
   },
   "outputs": [
    {
     "name": "stdout",
     "output_type": "stream",
     "text": [
      "13232\n"
     ]
    }
   ],
   "source": [
    "print(len(os.listdir(train_dir)))"
   ]
  },
  {
   "cell_type": "code",
   "execution_count": 5,
   "metadata": {
    "collapsed": false
   },
   "outputs": [
    {
     "name": "stdout",
     "output_type": "stream",
     "text": [
      "13232\n"
     ]
    }
   ],
   "source": [
    "train_targets_dir = root_dir+'train-targets-small/'\n",
    "print(len(os.listdir(train_targets_dir)))"
   ]
  },
  {
   "cell_type": "code",
   "execution_count": 6,
   "metadata": {
    "collapsed": false
   },
   "outputs": [],
   "source": [
    "train_imgs = os.listdir(train_dir)\n",
    "train_targets = os.listdir(train_targets_dir)"
   ]
  },
  {
   "cell_type": "code",
   "execution_count": 27,
   "metadata": {
    "collapsed": false
   },
   "outputs": [],
   "source": [
    "# Defining the global variables\n",
    "IMG_SIZE = 50\n",
    "# Constants describing the training process.\n",
    "MOVING_AVERAGE_DECAY = 0.9999     \n",
    "NUM_EPOCHS_PER_DECAY = 350.0      \n",
    "LEARNING_RATE_DECAY_FACTOR = 0.1  \n",
    "INITIAL_LEARNING_RATE = 0.1       \n",
    "\n",
    "# Creating the model\n",
    "\n",
    "batch_size= 4\n",
    "\n",
    "def GaussianFilterModel(data):\n",
    "    \n",
    "    \n",
    "    # conv1\n",
    "    with tf.variable_scope('conv1') as scope:\n",
    "        kernel = tf.get_variable('w------1', [5,5,3,64], initializer=tf.truncated_normal_initializer(5e-2), dtype=tf.float32)\n",
    "        conv = tf.nn.conv2d(data, kernel, [1,1,1,1], padding='SAME')\n",
    "        biases = tf.get_variable('b------2', [64], initializer=tf.constant_initializer(0.1), dtype=tf.float32)\n",
    "        pre_activation = tf.nn.bias_add(conv, biases)\n",
    "        act = tf.nn.relu(pre_activation, name=scope.name)\n",
    "        \n",
    "        #norm\n",
    "        norm = tf.nn.lrn(act, 4, bias=1.0, alpha=0.001 / 9.0, beta=0.75,\n",
    "                    name='norm')\n",
    "        \n",
    "        #pool\n",
    "        pool = tf.nn.max_pool(norm, ksize=[1, 3, 3, 1],\n",
    "                         strides=[1, 2, 2, 1], padding='SAME', name='pool')\n",
    "        \n",
    "    with tf.variable_scope('conv4') as scope:\n",
    "        \n",
    "        kernel4 = tf.get_variable('w------3', [1,1,64, 3], initializer=tf.truncated_normal_initializer(5e-2), dtype=tf.float32)\n",
    "        conv4 = tf.nn.conv2d(pool, kernel4, [1,1,1,1], padding='SAME')\n",
    "        biases4 = tf.get_variable('b------3', [3], initializer=tf.constant_initializer(0.1), dtype=tf.float32)\n",
    "        pre_activation4 = tf.nn.bias_add(conv4, biases4)\n",
    "        \n",
    "    \n",
    "    with tf.variable_scope('local1') as scope:\n",
    "        output = tf.image.resize_images(pre_activation4, tf.Variable([50, 50], tf.int32))\n",
    "        output = tf.nn.softmax(output)\n",
    "        output = tf.multiply(output, 255, name='operation_to_restore')\n",
    "        \n",
    "    return output\n",
    "        "
   ]
  },
  {
   "cell_type": "code",
   "execution_count": 8,
   "metadata": {
    "collapsed": true
   },
   "outputs": [],
   "source": [
    "#validation split\n",
    "validation_size = 0.2\n",
    "# Input data\n",
    "x = tf.placeholder(tf.float32, shape=[None, IMG_SIZE, IMG_SIZE, 3], name='x')\n",
    "y = tf.placeholder(tf.float32, shape=[None, IMG_SIZE, IMG_SIZE, 3], name='y')"
   ]
  },
  {
   "cell_type": "code",
   "execution_count": 9,
   "metadata": {
    "collapsed": false
   },
   "outputs": [],
   "source": [
    "train_images = []\n",
    "for f in train_imgs:\n",
    "    f_name = train_dir+f\n",
    "    train_images.append(f_name)"
   ]
  },
  {
   "cell_type": "code",
   "execution_count": 10,
   "metadata": {
    "collapsed": true
   },
   "outputs": [],
   "source": [
    "train_labels = []\n",
    "for f in train_targets:\n",
    "    f_name = train_targets_dir + f\n",
    "    train_labels.append(f_name)"
   ]
  },
  {
   "cell_type": "code",
   "execution_count": 11,
   "metadata": {
    "collapsed": false
   },
   "outputs": [
    {
     "name": "stdout",
     "output_type": "stream",
     "text": [
      "1200\n"
     ]
    }
   ],
   "source": [
    "train_images = train_images[0:1200]\n",
    "print(len(train_images))"
   ]
  },
  {
   "cell_type": "code",
   "execution_count": 12,
   "metadata": {
    "collapsed": false
   },
   "outputs": [
    {
     "name": "stdout",
     "output_type": "stream",
     "text": [
      "1200\n"
     ]
    }
   ],
   "source": [
    "train_labels = train_labels[0:1200]\n",
    "print(len(train_labels))\n",
    "def input_parser(image_path, label_path):\n",
    "    img_file = tf.read_file(image_path)\n",
    "    label_file = tf.read_file(label_path)\n",
    "    img_decoded = tf.image.decode_image(img_file, channels=3)\n",
    "    lbl_decoded = tf.image.decode_image(label_file, channels=3)\n",
    "    \n",
    "    return img_decoded, lbl_decoded"
   ]
  },
  {
   "cell_type": "code",
   "execution_count": null,
   "metadata": {
    "collapsed": false
   },
   "outputs": [],
   "source": [
    "print(train_images[-10:]) \n",
    "print(train_labels[-10:])"
   ]
  },
  {
   "cell_type": "code",
   "execution_count": null,
   "metadata": {
    "collapsed": false
   },
   "outputs": [],
   "source": [
    "tr_data = Dataset.from_tensor_slices((train_images, train_labels))\n",
    "tr_data = tr_data.map(input_parser)\n",
    "tr_data = tr_data.batch(batch_size)\n",
    "# create TensorFlow Iterator object\n",
    "iterator = Iterator.from_structure(tr_data.output_types,\n",
    "                                   tr_data.output_shapes)\n",
    "next_element = iterator.get_next()\n",
    "\n",
    "# create two initialization ops to switch between the datasets\n",
    "training_init_op = iterator.make_initializer(tr_data)"
   ]
  },
  {
   "cell_type": "code",
   "execution_count": 28,
   "metadata": {
    "collapsed": false
   },
   "outputs": [],
   "source": [
    "# Define the training \n",
    "def train_model(x, y):\n",
    "    prediction = GaussianFilterModel(x)\n",
    "    cost = tf.reduce_mean(tf.losses.mean_pairwise_squared_error(y, prediction))\n",
    "    optimizer = tf.train.AdamOptimizer(0.01).minimize(cost)\n",
    "    \n",
    "    hm_epochs = 100\n",
    "    with tf.Session() as sess:\n",
    "        sess.run(tf.global_variables_initializer())\n",
    "        \n",
    "        for epoch in range(hm_epochs):\n",
    "            #sess.run(training_init_op)\n",
    "            epoch_loss = 0\n",
    "            #while True:\n",
    "             #   try:\n",
    "            #      elem = sess.run(next_element)\n",
    "            #        epoch_x, epoch_y = elem\n",
    "            #        _, c = sess.run([optimizer, cost], feed_dict={x: epoch_x, y: epoch_y})\n",
    "            #        epoch_loss += c\n",
    "            #        \n",
    "            #    except tf.errors.OutOfRangeError:\n",
    "            #        break\n",
    "            \n",
    "            for epoch_x, epoch_y in zip(train_images, train_labels):\n",
    "                epoch_x = io.imread(epoch_x)\n",
    "                epoch_y = io.imread(epoch_y)\n",
    "                _, c = sess.run([optimizer, cost], feed_dict={x:[epoch_x], y:[epoch_y]})\n",
    "                epoch_loss += c\n",
    "            print('Epoch', epoch, 'completed out of',hm_epochs,'loss:',epoch_loss)\n",
    "        \n",
    "        # Save the session\n",
    "        saver = tf.train.Saver()\n",
    "        saver.save(sess, 'my_test_model_2')"
   ]
  },
  {
   "cell_type": "code",
   "execution_count": 29,
   "metadata": {
    "collapsed": false,
    "scrolled": true
   },
   "outputs": [
    {
     "name": "stdout",
     "output_type": "stream",
     "text": [
      "Epoch 0 completed out of 100 loss: 40644758.5938\n",
      "Epoch 1 completed out of 100 loss: 22328564.375\n",
      "Epoch 2 completed out of 100 loss: 13243853.1635\n",
      "Epoch 3 completed out of 100 loss: 9750277.74634\n",
      "Epoch 4 completed out of 100 loss: 9254782.36353\n",
      "Epoch 5 completed out of 100 loss: 9340876.92407\n",
      "Epoch 6 completed out of 100 loss: 10109339.965\n",
      "Epoch 7 completed out of 100 loss: 9299548.89148\n",
      "Epoch 8 completed out of 100 loss: 9064981.01489\n",
      "Epoch 9 completed out of 100 loss: 9040886.64807\n",
      "Epoch 10 completed out of 100 loss: 10290666.6674\n",
      "Epoch 11 completed out of 100 loss: 8971648.02417\n",
      "Epoch 12 completed out of 100 loss: 8855634.97803\n",
      "Epoch 13 completed out of 100 loss: 8982213.11584\n",
      "Epoch 14 completed out of 100 loss: 8957714.7793\n",
      "Epoch 15 completed out of 100 loss: 9161010.50427\n",
      "Epoch 16 completed out of 100 loss: 8763186.15723\n",
      "Epoch 17 completed out of 100 loss: 8883537.7019\n",
      "Epoch 18 completed out of 100 loss: 8327715.39893\n",
      "Epoch 19 completed out of 100 loss: 8760836.1123\n",
      "Epoch 20 completed out of 100 loss: 9170182.34338\n",
      "Epoch 21 completed out of 100 loss: 8757281.46204\n",
      "Epoch 22 completed out of 100 loss: 8598617.08777\n",
      "Epoch 23 completed out of 100 loss: 8647408.41541\n",
      "Epoch 24 completed out of 100 loss: 8891169.42163\n",
      "Epoch 25 completed out of 100 loss: 8599053.21558\n",
      "Epoch 26 completed out of 100 loss: 8791330.97412\n",
      "Epoch 27 completed out of 100 loss: 8594840.13647\n",
      "Epoch 28 completed out of 100 loss: 8977251.67456\n",
      "Epoch 29 completed out of 100 loss: 8512259.39966\n",
      "Epoch 30 completed out of 100 loss: 8355559.64966\n",
      "Epoch 31 completed out of 100 loss: 8703346.44165\n",
      "Epoch 32 completed out of 100 loss: 8298850.97351\n",
      "Epoch 33 completed out of 100 loss: 8323745.98267\n",
      "Epoch 34 completed out of 100 loss: 8395877.14929\n",
      "Epoch 35 completed out of 100 loss: 8324151.78564\n",
      "Epoch 36 completed out of 100 loss: 8287816.13586\n",
      "Epoch 37 completed out of 100 loss: 8441900.86218\n",
      "Epoch 38 completed out of 100 loss: 8060781.92639\n",
      "Epoch 39 completed out of 100 loss: 8201925.14209\n",
      "Epoch 40 completed out of 100 loss: 8276006.60229\n",
      "Epoch 41 completed out of 100 loss: 8184947.71216\n",
      "Epoch 42 completed out of 100 loss: 8077609.32861\n",
      "Epoch 43 completed out of 100 loss: 8154914.17371\n",
      "Epoch 44 completed out of 100 loss: 8245445.11169\n",
      "Epoch 45 completed out of 100 loss: 8029578.60986\n",
      "Epoch 46 completed out of 100 loss: 7991181.58679\n",
      "Epoch 47 completed out of 100 loss: 8003852.43433\n",
      "Epoch 48 completed out of 100 loss: 8032162.67285\n",
      "Epoch 49 completed out of 100 loss: 8112301.2677\n",
      "Epoch 50 completed out of 100 loss: 8048048.24817\n",
      "Epoch 51 completed out of 100 loss: 8042349.20557\n",
      "Epoch 52 completed out of 100 loss: 8078897.25317\n",
      "Epoch 53 completed out of 100 loss: 7944561.72412\n",
      "Epoch 54 completed out of 100 loss: 7939593.74768\n",
      "Epoch 55 completed out of 100 loss: 7991202.16748\n",
      "Epoch 56 completed out of 100 loss: 7974687.85132\n",
      "Epoch 57 completed out of 100 loss: 7993332.15332\n",
      "Epoch 58 completed out of 100 loss: 7879316.26953\n",
      "Epoch 59 completed out of 100 loss: 7868728.65527\n",
      "Epoch 60 completed out of 100 loss: 7820749.81934\n",
      "Epoch 61 completed out of 100 loss: 8024604.14648\n",
      "Epoch 62 completed out of 100 loss: 7845120.90332\n",
      "Epoch 63 completed out of 100 loss: 7962675.01331\n",
      "Epoch 64 completed out of 100 loss: 7995425.91248\n",
      "Epoch 65 completed out of 100 loss: 7747672.29614\n",
      "Epoch 66 completed out of 100 loss: 8020692.05334\n",
      "Epoch 67 completed out of 100 loss: 7855492.28442\n",
      "Epoch 68 completed out of 100 loss: 7762666.36072\n",
      "Epoch 69 completed out of 100 loss: 7765976.47986\n",
      "Epoch 70 completed out of 100 loss: 7827124.70105\n",
      "Epoch 71 completed out of 100 loss: 7836315.00964\n",
      "Epoch 72 completed out of 100 loss: 7715019.78845\n",
      "Epoch 73 completed out of 100 loss: 7663669.80835\n",
      "Epoch 74 completed out of 100 loss: 7907597.82336\n",
      "Epoch 75 completed out of 100 loss: 7709752.64404\n",
      "Epoch 76 completed out of 100 loss: 7747986.42566\n",
      "Epoch 77 completed out of 100 loss: 7834125.52502\n",
      "Epoch 78 completed out of 100 loss: 7842756.00745\n",
      "Epoch 79 completed out of 100 loss: 7898922.8678\n",
      "Epoch 80 completed out of 100 loss: 7636167.10059\n",
      "Epoch 81 completed out of 100 loss: 7750986.12976\n",
      "Epoch 82 completed out of 100 loss: 7613872.18042\n",
      "Epoch 83 completed out of 100 loss: 7699530.98926\n",
      "Epoch 84 completed out of 100 loss: 7650645.11755\n",
      "Epoch 85 completed out of 100 loss: 7824372.76794\n",
      "Epoch 86 completed out of 100 loss: 7747424.23804\n",
      "Epoch 87 completed out of 100 loss: 7819757.08557\n",
      "Epoch 88 completed out of 100 loss: 7568862.70703\n",
      "Epoch 89 completed out of 100 loss: 7852784.66492\n",
      "Epoch 90 completed out of 100 loss: 7752378.67798\n",
      "Epoch 91 completed out of 100 loss: 7690713.14429\n",
      "Epoch 92 completed out of 100 loss: 7639035.38293\n",
      "Epoch 93 completed out of 100 loss: 7960602.04504\n",
      "Epoch 94 completed out of 100 loss: 7665719.63428\n",
      "Epoch 95 completed out of 100 loss: 7723459.77075\n",
      "Epoch 96 completed out of 100 loss: 7596264.51758\n",
      "Epoch 97 completed out of 100 loss: 7608121.07776\n",
      "Epoch 98 completed out of 100 loss: 7592741.79663\n",
      "Epoch 99 completed out of 100 loss: 7551481.37842\n"
     ]
    }
   ],
   "source": [
    "train_model(x, y)"
   ]
  },
  {
   "cell_type": "code",
   "execution_count": 30,
   "metadata": {
    "collapsed": false
   },
   "outputs": [
    {
     "name": "stdout",
     "output_type": "stream",
     "text": [
      "INFO:tensorflow:Restoring parameters from ./my_test_model_2\n"
     ]
    },
    {
     "name": "stderr",
     "output_type": "stream",
     "text": [
      "INFO:tensorflow:Restoring parameters from ./my_test_model_2\n"
     ]
    }
   ],
   "source": [
    "# Load the saved tensorflow model\n",
    "sess = tf.Session()\n",
    "root_dir = '/Users/navneetmkumar/Desktop/TUM/'\n",
    "#First let's load meta graph and restore weights\n",
    "saver = tf.train.import_meta_graph(root_dir+'my_test_model_2.meta')\n",
    "saver.restore(sess,tf.train.latest_checkpoint('./'))"
   ]
  },
  {
   "cell_type": "code",
   "execution_count": 31,
   "metadata": {
    "collapsed": false
   },
   "outputs": [],
   "source": [
    "graph = tf.get_default_graph()\n",
    "x = graph.get_tensor_by_name('x:0')"
   ]
  },
  {
   "cell_type": "code",
   "execution_count": 34,
   "metadata": {
    "collapsed": false
   },
   "outputs": [
    {
     "name": "stdout",
     "output_type": "stream",
     "text": [
      "None\n"
     ]
    },
    {
     "data": {
      "image/png": "[encoded data removed]",
      "text/plain": [
       "<matplotlib.figure.Figure at 0x12fa45588>"
      ]
     },
     "metadata": {},
     "output_type": "display_data"
    }
   ],
   "source": [
    "img_path = train_images[90]\n",
    "img = io.imread(img_path)\n",
    "img_file = tf.read_file(img_path)\n",
    "img_decoded = tf.image.decode_image(img_file, channels=3)\n",
    "feed_dict = {x: [img]}\n",
    "op_to_restore = graph.get_operation_by_name('local1/operation_to_restore')\n",
    "p = sess.run(op_to_restore, feed_dict)\n",
    "print(p)"
   ]
  },
  {
   "cell_type": "code",
   "execution_count": null,
   "metadata": {
    "collapsed": false
   },
   "outputs": [],
   "source": [
    "for o in graph.get_operations():\n",
    "    print(o)"
   ]
  },
  {
   "cell_type": "code",
   "execution_count": null,
   "metadata": {
    "collapsed": false
   },
   "outputs": [],
   "source": []
  },
  {
   "cell_type": "code",
   "execution_count": null,
   "metadata": {
    "collapsed": false
   },
   "outputs": [],
   "source": []
  },
  {
   "cell_type": "code",
   "execution_count": null,
   "metadata": {
    "collapsed": false
   },
   "outputs": [],
   "source": []
  },
  {
   "cell_type": "code",
   "execution_count": null,
   "metadata": {
    "collapsed": true
   },
   "outputs": [],
   "source": []
  }
 ],
 "metadata": {
  "kernelspec": {
   "display_name": "Python 3",
   "language": "python",
   "name": "python3"
  },
  "language_info": {
   "codemirror_mode": {
    "name": "ipython",
    "version": 3
   },
   "file_extension": ".py",
   "mimetype": "text/x-python",
   "name": "python",
   "nbconvert_exporter": "python",
   "pygments_lexer": "ipython3",
   "version": "3.5.3"
  }
 },
 "nbformat": 4,
 "nbformat_minor": 0
}
